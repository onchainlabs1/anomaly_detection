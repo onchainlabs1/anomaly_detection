{
  "cells": [
    {
      "cell_type": "raw",
      "metadata": {
        "vscode": {
          "languageId": "raw"
        }
      },
      "source": [
        "# Anomaliq - Exploratory Data Analysis\n",
        "\n",
        "This notebook demonstrates the exploratory data analysis and model training process for the Anomaliq anomaly detection system.\n",
        "\n",
        "## Overview\n",
        "- Data generation and exploration\n",
        "- Feature analysis and visualization  \n",
        "- Model training with IsolationForest\n",
        "- SHAP explanations\n",
        "- Performance evaluation\n"
      ]
    },
    {
      "cell_type": "code",
      "execution_count": null,
      "metadata": {},
      "outputs": [],
      "source": [
        "# Import required libraries\n",
        "import pandas as pd\n",
        "import numpy as np\n",
        "import matplotlib.pyplot as plt\n",
        "import seaborn as sns\n",
        "\n",
        "# Set up plotting\n",
        "plt.style.use('default')\n",
        "sns.set_palette(\"husl\")\n",
        "\n",
        "# Import Anomaliq components\n",
        "import sys\n",
        "sys.path.append('../')\n",
        "\n",
        "from src.data import CreditCardDataGenerator, DataLoader, DataValidator\n",
        "from src.features import FeaturePipeline\n",
        "from src.models import AnomalyModelTrainer\n",
        "from src.utils import get_settings\n",
        "\n",
        "print(\"✅ All imports successful!\")\n"
      ]
    }
  ],
  "metadata": {
    "language_info": {
      "name": "python"
    }
  },
  "nbformat": 4,
  "nbformat_minor": 2
}
